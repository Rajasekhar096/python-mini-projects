{
 "cells": [
  {
   "cell_type": "code",
   "execution_count": null,
   "id": "0694cd3f-2339-4ccb-a7b0-9dc0924e85b5",
   "metadata": {},
   "outputs": [],
   "source": [
    "import random\n",
    "import math\n",
    "\n",
    "lower_value = int(input(\"enter lower value: \"))\n",
    "upper_value = int(input(\"enter upper value: \"))\n",
    "\n",
    "x = random.randint(lower_value,upper_value)\n",
    "\n",
    "chances = round(math.log(upper_value-lower_value+1,2))\n",
    "\n",
    "print(f\"you have only {chances} for guessing number\")\n",
    "count =0\n",
    "\n",
    "while count<chances:\n",
    "    count += 1\n",
    "    guess = int(input(\"guess number: \"))\n",
    "\n",
    "    if x == guess:\n",
    "        print(\"congratulations you find the lucky number in \")\n",
    "\n",
    "    elif x>guess:\n",
    "        print(\"your guessing number is too small\")\n",
    "    elif x<guess:\n",
    "        print(\"your guessing number is large\") \n",
    "    # else:\n",
    "    #     print(\"you are entering something wrong number\")\n",
    "\n",
    "if count>=chances:\n",
    "    print(\"better luck next time where your chances are lost the answer is \",x)\n",
    "\n",
    "\n",
    "\n"
   ]
  },
  {
   "cell_type": "code",
   "execution_count": null,
   "id": "28bd9ed4-c9b9-4489-8636-6f85b064642e",
   "metadata": {},
   "outputs": [],
   "source": []
  }
 ],
 "metadata": {
  "kernelspec": {
   "display_name": "Python 3 (ipykernel)",
   "language": "python",
   "name": "python3"
  },
  "language_info": {
   "codemirror_mode": {
    "name": "ipython",
    "version": 3
   },
   "file_extension": ".py",
   "mimetype": "text/x-python",
   "name": "python",
   "nbconvert_exporter": "python",
   "pygments_lexer": "ipython3",
   "version": "3.9.0"
  }
 },
 "nbformat": 4,
 "nbformat_minor": 5
}
